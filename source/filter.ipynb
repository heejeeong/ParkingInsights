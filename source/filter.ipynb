{
 "cells": [
  {
   "cell_type": "code",
   "execution_count": 1,
   "metadata": {},
   "outputs": [],
   "source": [
    "import pandas as pd\n",
    "\n",
    "# 엑셀 파일에서 데이터 읽어오기\n",
    "df = pd.read_excel(\"../data/parks.xlsx\")\n",
    "\n",
    "# '주소' 열에서 특정 구가 포함된 행만 선택\n",
    "selected_rows = df[df['주소'].str.contains('중구|종로구|서초구')]\n",
    "\n",
    "# 선택된 행을 새로운 엑셀 파일로 저장\n",
    "selected_rows.to_excel(\"filtered_parking_data.xlsx\", index=False)"
   ]
  },
  {
   "cell_type": "code",
   "execution_count": 3,
   "metadata": {},
   "outputs": [],
   "source": [
    "import pandas as pd\n",
    "import folium\n",
    "from folium import plugins\n",
    "\n",
    "# 엑셀 파일에서 데이터 읽어오기\n",
    "df = pd.read_excel('./filtered_parking_data_high.xlsx')\n",
    "\n",
    "# Folium을 사용하여 지도 생성\n",
    "map_center = [df['위도'].mean(), df['경도'].mean()]  # 중앙 좌표 설정\n",
    "mymap = folium.Map(location=map_center, zoom_start=10)\n",
    "\n",
    "# 히트맵 레이어 추가\n",
    "heat_data = [[point.위도, point.경도] for point in df[['위도', '경도']].itertuples()]\n",
    "plugins.HeatMap(heat_data).add_to(mymap)\n",
    "\n",
    "# 각 구에 대한 정보와 중심 좌표\n",
    "seoul_gu_info = {\n",
    "    '중구': [37.5645, 126.9750],\n",
    "    '종로구': [37.5723, 126.9848],\n",
    "    '서초구': [37.4837, 127.0324],\n",
    "    # 다른 구들도 필요에 따라 추가\n",
    "}\n",
    "\n",
    "# 각 구에 숫자 마커 추가\n",
    "for gu, center in seoul_gu_info.items():\n",
    "    marker_text = f\"{gu} 구\"\n",
    "    folium.Marker(location=center, popup=marker_text, icon=folium.Icon(color='blue')).add_to(mymap)\n",
    "\n",
    "# 지도 저장\n",
    "mymap.save('heatmap_with_markers.html')\n"
   ]
  },
  {
   "cell_type": "code",
   "execution_count": 4,
   "metadata": {},
   "outputs": [],
   "source": [
    "import pandas as pd\n",
    "\n",
    "# 엑셀 파일에서 데이터 읽어오기\n",
    "df = pd.read_excel(\"../data/parks.xlsx\")\n",
    "\n",
    "# '주소' 열에서 특정 구가 포함된 행만 선택\n",
    "selected_rows = df[df['주소'].str.contains('양천구|중랑구|도봉구')]\n",
    "\n",
    "# 선택된 행을 새로운 엑셀 파일로 저장\n",
    "selected_rows.to_excel(\"filtered_parking_data_small.xlsx\", index=False)"
   ]
  },
  {
   "cell_type": "code",
   "execution_count": 7,
   "metadata": {},
   "outputs": [],
   "source": [
    "import pandas as pd\n",
    "import folium\n",
    "\n",
    "# 엑셀 파일에서 데이터 읽어오기\n",
    "df = pd.read_excel('./filtered_parking_data_high.xlsx')\n",
    "\n",
    "# Folium을 사용하여 지도 생성\n",
    "map_center = [df['위도'].mean(), df['경도'].mean()]  # 중앙 좌표 설정\n",
    "mymap = folium.Map(location=map_center, zoom_start=10)\n",
    "\n",
    "# 각 행에 대한 마커 추가\n",
    "map_info = df[['위도', '경도', '주차장명']].dropna()\n",
    "\n",
    "for lat, long, name in zip(map_info[\"위도\"], map_info[\"경도\"], map_info[\"주차장명\"]):\n",
    "    folium.Marker([lat, long], popup=name, tooltip=name).add_to(mymap)\n",
    "\n",
    "# 지도 저장\n",
    "mymap.save('map_with_markers.html')\n"
   ]
  },
  {
   "cell_type": "code",
   "execution_count": 8,
   "metadata": {},
   "outputs": [],
   "source": [
    "import pandas as pd\n",
    "import folium\n",
    "from folium.plugins import MarkerCluster\n",
    "\n",
    "# 엑셀 파일에서 데이터 읽어오기\n",
    "df = pd.read_excel('./filtered_parking_data_high.xlsx')\n",
    "\n",
    "# Folium을 사용하여 지도 생성\n",
    "map_center = [df['위도'].mean(), df['경도'].mean()]  # 중앙 좌표 설정\n",
    "mymap = folium.Map(location=map_center, zoom_start=10)\n",
    "\n",
    "# MarkerCluster 생성\n",
    "marker_cluster = MarkerCluster().add_to(mymap)\n",
    "\n",
    "# 각 행에 대한 마커 및 정보 추가\n",
    "map_info = df[['위도', '경도', '주차장명']].dropna()\n",
    "\n",
    "for lat, long, name in zip(map_info[\"위도\"], map_info[\"경도\"], map_info[\"주차장명\"]):\n",
    "    folium.Marker([lat, long], popup=name, tooltip=name).add_to(marker_cluster)\n",
    "\n",
    "# 지도 저장\n",
    "mymap.save('map_with_markercluster.html')\n"
   ]
  },
  {
   "cell_type": "code",
   "execution_count": 9,
   "metadata": {},
   "outputs": [],
   "source": [
    "import pandas as pd\n",
    "import folium\n",
    "from folium.plugins import MarkerCluster\n",
    "\n",
    "# 엑셀 파일에서 데이터 읽어오기\n",
    "df = pd.read_excel('./filtered_parking_data_low.xlsx')\n",
    "\n",
    "# Folium을 사용하여 지도 생성\n",
    "map_center = [df['위도'].mean(), df['경도'].mean()]  # 중앙 좌표 설정\n",
    "mymap = folium.Map(location=map_center, zoom_start=10)\n",
    "\n",
    "# MarkerCluster 생성\n",
    "marker_cluster = MarkerCluster().add_to(mymap)\n",
    "\n",
    "# 각 행에 대한 마커 및 정보 추가\n",
    "map_info = df[['위도', '경도', '주차장명']].dropna()\n",
    "\n",
    "for lat, long, name in zip(map_info[\"위도\"], map_info[\"경도\"], map_info[\"주차장명\"]):\n",
    "    folium.Marker([lat, long], popup=name, tooltip=name).add_to(marker_cluster)\n",
    "\n",
    "# 지도 저장\n",
    "mymap.save('map_with_markercluster_low.html')\n"
   ]
  },
  {
   "cell_type": "code",
   "execution_count": null,
   "metadata": {},
   "outputs": [],
   "source": []
  }
 ],
 "metadata": {
  "kernelspec": {
   "display_name": "Python 3",
   "language": "python",
   "name": "python3"
  },
  "language_info": {
   "codemirror_mode": {
    "name": "ipython",
    "version": 3
   },
   "file_extension": ".py",
   "mimetype": "text/x-python",
   "name": "python",
   "nbconvert_exporter": "python",
   "pygments_lexer": "ipython3",
   "version": "3.8.5"
  }
 },
 "nbformat": 4,
 "nbformat_minor": 4
}
