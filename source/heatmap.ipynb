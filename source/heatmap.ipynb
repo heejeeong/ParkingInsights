{
 "cells": [
  {
   "cell_type": "code",
   "execution_count": 2,
   "metadata": {},
   "outputs": [
    {
     "name": "stdout",
     "output_type": "stream",
     "text": [
      "Requirement already satisfied: folium in c:\\users\\user\\anaconda3\\lib\\site-packages (0.15.1)\n",
      "Note: you may need to restart the kernel to use updated packages.Requirement already satisfied: xyzservices in c:\\users\\user\\anaconda3\\lib\\site-packages (from folium) (2023.10.1)\n",
      "Requirement already satisfied: jinja2>=2.9 in c:\\users\\user\\anaconda3\\lib\\site-packages (from folium) (2.11.2)\n",
      "Requirement already satisfied: branca>=0.6.0 in c:\\users\\user\\anaconda3\\lib\\site-packages (from folium) (0.7.0)\n",
      "Requirement already satisfied: numpy in c:\\users\\user\\anaconda3\\lib\\site-packages (from folium) (1.19.2)\n",
      "Requirement already satisfied: requests in c:\\users\\user\\anaconda3\\lib\\site-packages (from folium) (2.24.0)\n",
      "\n",
      "Requirement already satisfied: MarkupSafe>=0.23 in c:\\users\\user\\anaconda3\\lib\\site-packages (from jinja2>=2.9->folium) (1.1.1)\n",
      "Requirement already satisfied: idna<3,>=2.5 in c:\\users\\user\\anaconda3\\lib\\site-packages (from requests->folium) (2.10)\n",
      "Requirement already satisfied: certifi>=2017.4.17 in c:\\users\\user\\anaconda3\\lib\\site-packages (from requests->folium) (2020.6.20)\n",
      "Requirement already satisfied: urllib3!=1.25.0,!=1.25.1,<1.26,>=1.21.1 in c:\\users\\user\\anaconda3\\lib\\site-packages (from requests->folium) (1.25.11)\n",
      "Requirement already satisfied: chardet<4,>=3.0.2 in c:\\users\\user\\anaconda3\\lib\\site-packages (from requests->folium) (3.0.4)\n"
     ]
    }
   ],
   "source": [
    "pip install folium"
   ]
  },
  {
   "cell_type": "code",
   "execution_count": 6,
   "metadata": {},
   "outputs": [],
   "source": [
    "import pandas as pd\n",
    "import folium\n",
    "\n",
    "from folium import plugins\n",
    "\n",
    "# 엑셀 파일에서 데이터 읽어오기\n",
    "df = pd.read_excel('../data/parks.xlsx')\n",
    "\n",
    "# Folium을 사용하여 지도 생성\n",
    "map_center = [df['위도'].mean(), df['경도'].mean()]  # 중앙 좌표 설정\n",
    "mymap = folium.Map(location=map_center, zoom_start=10)\n",
    "\n",
    "# 히트맵 레이어 추가\n",
    "heat_data = [[point.위도, point.경도] for point in df[['위도', '경도']].itertuples()]\n",
    "plugins.HeatMap(heat_data).add_to(mymap)\n",
    "\n",
    "# 지도 저장\n",
    "mymap.save('heatmap.html')\n"
   ]
  },
  {
   "cell_type": "code",
   "execution_count": 9,
   "metadata": {},
   "outputs": [],
   "source": [
    "import pandas as pd\n",
    "import folium\n",
    "\n",
    "from folium import plugins\n",
    "\n",
    "# 엑셀 파일에서 데이터 읽어오기\n",
    "df = pd.read_excel('./filtered_parking_data_high.xlsx')\n",
    "\n",
    "# Folium을 사용하여 지도 생성\n",
    "map_center = [df['위도'].mean(), df['경도'].mean()]  # 중앙 좌표 설정\n",
    "mymap = folium.Map(location=map_center, zoom_start=10)\n",
    "\n",
    "# 히트맵 레이어 추가\n",
    "heat_data = [[point.위도, point.경도] for point in df[['위도', '경도']].itertuples()]\n",
    "plugins.HeatMap(heat_data).add_to(mymap)\n",
    "\n",
    "# 지도 저장\n",
    "mymap.save('heatmap_high.html')\n"
   ]
  },
  {
   "cell_type": "code",
   "execution_count": 10,
   "metadata": {},
   "outputs": [],
   "source": [
    "import pandas as pd\n",
    "import folium\n",
    "\n",
    "from folium import plugins\n",
    "\n",
    "# 엑셀 파일에서 데이터 읽어오기\n",
    "df = pd.read_excel('./filtered_parking_data_low.xlsx')\n",
    "\n",
    "# Folium을 사용하여 지도 생성\n",
    "map_center = [df['위도'].mean(), df['경도'].mean()]  # 중앙 좌표 설정\n",
    "mymap = folium.Map(location=map_center, zoom_start=10)\n",
    "\n",
    "# 히트맵 레이어 추가\n",
    "heat_data = [[point.위도, point.경도] for point in df[['위도', '경도']].itertuples()]\n",
    "plugins.HeatMap(heat_data).add_to(mymap)\n",
    "\n",
    "# 지도 저장\n",
    "mymap.save('heatmap_low.html')\n"
   ]
  },
  {
   "cell_type": "code",
   "execution_count": null,
   "metadata": {},
   "outputs": [],
   "source": []
  }
 ],
 "metadata": {
  "kernelspec": {
   "display_name": "Python 3",
   "language": "python",
   "name": "python3"
  },
  "language_info": {
   "codemirror_mode": {
    "name": "ipython",
    "version": 3
   },
   "file_extension": ".py",
   "mimetype": "text/x-python",
   "name": "python",
   "nbconvert_exporter": "python",
   "pygments_lexer": "ipython3",
   "version": "3.8.5"
  }
 },
 "nbformat": 4,
 "nbformat_minor": 4
}
