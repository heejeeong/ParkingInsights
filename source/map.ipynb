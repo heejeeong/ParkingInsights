{
 "cells": [
  {
   "cell_type": "code",
   "execution_count": 1,
   "metadata": {},
   "outputs": [
    {
     "name": "stdout",
     "output_type": "stream",
     "text": [
      "끝났습니다.\n"
     ]
    }
   ],
   "source": [
    "import folium\n",
    "import pandas as pd\n",
    "\n",
    "# 첫 번째 엑셀 파일 로드\n",
    "data1 = pd.read_excel(\"../data/20221101_불법주정차.xlsx\")\n",
    "\n",
    "# 두 번째 엑셀 파일 로드\n",
    "data2 = pd.read_csv(\"../data/parks.csv\")\n",
    "\n",
    "# 두 데이터 프레임을 합치기 (concatenate)\n",
    "combined_data = pd.concat([data1, data2], ignore_index=True)\n",
    "\n",
    "# 지도 객체 생성\n",
    "map_object = folium.Map(location=[combined_data['위도'].mean(), combined_data['경도'].mean()], zoom_start=10)\n",
    "\n",
    "# 각 데이터 포인트에 대해 마커 추가\n",
    "for index, row in combined_data.iterrows():\n",
    "    # 각 데이터 세트에 따라 다른 색상으로 마커 표시\n",
    "    if index < len(data1):\n",
    "        icon_color = 'red'  # 첫 번째 데이터 세트는 빨간색\n",
    "    else:\n",
    "        icon_color = 'green'  # 두 번째 데이터 세트는 초록색\n",
    "    \n",
    "    folium.Marker(location=[row['위도'], row['경도']], popup=row['시간'], icon=folium.Icon(color=icon_color)).add_to(map_object)\n",
    "\n",
    "# 지도를 HTML 파일로 저장\n",
    "map_object.save('../result/combined_map.html')\n",
    "\n",
    "print(\"끝났습니다.\")"
   ]
  },
  {
   "cell_type": "code",
   "execution_count": null,
   "metadata": {},
   "outputs": [],
   "source": []
  }
 ],
 "metadata": {
  "kernelspec": {
   "display_name": "Python 3",
   "language": "python",
   "name": "python3"
  },
  "language_info": {
   "codemirror_mode": {
    "name": "ipython",
    "version": 3
   },
   "file_extension": ".py",
   "mimetype": "text/x-python",
   "name": "python",
   "nbconvert_exporter": "python",
   "pygments_lexer": "ipython3",
   "version": "3.8.5"
  }
 },
 "nbformat": 4,
 "nbformat_minor": 4
}
